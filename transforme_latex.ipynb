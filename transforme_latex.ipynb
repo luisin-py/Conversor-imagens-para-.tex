{
  "nbformat": 4,
  "nbformat_minor": 0,
  "metadata": {
    "colab": {
      "provenance": [],
      "authorship_tag": "ABX9TyOOw2aJrFsd4UI3sRCAQK2o",
      "include_colab_link": true
    },
    "kernelspec": {
      "name": "python3",
      "display_name": "Python 3"
    },
    "language_info": {
      "name": "python"
    }
  },
  "cells": [
    {
      "cell_type": "markdown",
      "metadata": {
        "id": "view-in-github",
        "colab_type": "text"
      },
      "source": [
        "<a href=\"https://colab.research.google.com/github/luisin-py/Conversor-imagens-para-.tex/blob/main/transforme_latex.ipynb\" target=\"_parent\"><img src=\"https://colab.research.google.com/assets/colab-badge.svg\" alt=\"Open In Colab\"/></a>"
      ]
    },
    {
      "cell_type": "code",
      "source": [
        "def transforme_latex(path_imagem):\n",
        "  \"\"\"\n",
        "  Função que recebe o caminho de uma imagem e tenta convertê-la em código LaTeX através da API do Google Generative AI.\n",
        "  \"\"\"\n",
        "\n",
        "  from pathlib import Path\n",
        "  import hashlib\n",
        "  import google.generativeai as genai\n",
        "\n",
        "  # Configura a chave de API para acesso à API do Google Generative AI\n",
        "  genai.configure(api_key=\"chaveAPI\")\n",
        "\n",
        "  # Configurações para geração do texto\n",
        "  generation_config = {\n",
        "      \"temperature\": 1,  # Define a criatividade do modelo (0 = menos criativo, 1 = mais criativo)\n",
        "      \"top_p\": 0.95,    # Define a probabilidade cumulativa de tokens a serem considerados\n",
        "      \"top_k\": 0,       # Define o número de tokens a serem considerados (0 = desativado)\n",
        "      \"max_output_tokens\": 8192, # Define o número máximo de tokens na saída\n",
        "  }\n",
        "\n",
        "  # Configurações de segurança para evitar conteúdo impróprio\n",
        "  safety_settings = [\n",
        "      {\"category\": \"HARM_CATEGORY_HARASSMENT\", \"threshold\": \"BLOCK_MEDIUM_AND_ABOVE\"},\n",
        "      {\"category\": \"HARM_CATEGORY_HATE_SPEECH\", \"threshold\": \"BLOCK_MEDIUM_AND_ABOVE\"},\n",
        "      {\"category\": \"HARM_CATEGORY_SEXUALLY_EXPLICIT\", \"threshold\": \"BLOCK_MEDIUM_AND_ABOVE\"},\n",
        "      {\"category\": \"HARM_CATEGORY_DANGEROUS_CONTENT\", \"threshold\": \"BLOCK_MEDIUM_AND_ABOVE\"},\n",
        "  ]\n",
        "\n",
        "  # Inicializa o modelo generativo com as configurações definidas\n",
        "  model = genai.GenerativeModel(\n",
        "      model_name=\"gemini-1.5-pro-latest\",\n",
        "      generation_config=generation_config,\n",
        "      safety_settings=safety_settings\n",
        "  )\n",
        "\n",
        "  # Lista para armazenar arquivos carregados\n",
        "  uploaded_files = []\n",
        "\n",
        "  def upload_if_needed(pathname: str) -> list[str]:\n",
        "    \"\"\"\n",
        "    Função auxiliar que verifica se o arquivo já foi carregado e,\n",
        "    caso contrário, faz o upload e retorna a lista de arquivos carregados.\n",
        "    \"\"\"\n",
        "    path = Path(pathname)\n",
        "    hash_id = hashlib.sha256(path.read_bytes()).hexdigest() # Gera um hash único para o arquivo\n",
        "\n",
        "    try:\n",
        "      # Tenta obter o arquivo já carregado pelo seu hash\n",
        "      existing_file = genai.get_file(name=hash_id)\n",
        "      return [existing_file]\n",
        "    except:\n",
        "      pass\n",
        "\n",
        "    # Se o arquivo não existe, faz o upload\n",
        "    uploaded_files.append(genai.upload_file(path=path, display_name=hash_id))\n",
        "    return [uploaded_files[-1]]\n",
        "\n",
        "  # Cria o prompt para o modelo, incluindo o texto de instrução e o arquivo da imagem\n",
        "  prompt_parts = [\n",
        "      \"Transforme essa imagem em arquivo .tex  \\n\\n\",\n",
        "      *upload_if_needed(str(path_imagem)),\n",
        "      \"\\n\",\n",
        "  ]\n",
        "\n",
        "  # Gera o conteúdo (código LaTeX) a partir do prompt\n",
        "  response = model.generate_content(prompt_parts)\n",
        "\n",
        "  # Imprime o código LaTeX gerado\n",
        "  print(response.text)\n",
        "\n",
        "  # Remove os arquivos carregados após a geração do código\n",
        "  for uploaded_file in uploaded_files:\n",
        "      genai.delete_file(name=uploaded_file.name)"
      ],
      "metadata": {
        "id": "9q6aKcCtg3OB"
      },
      "execution_count": 8,
      "outputs": []
    }
  ]
}